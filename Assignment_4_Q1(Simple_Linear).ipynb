{
  "nbformat": 4,
  "nbformat_minor": 0,
  "metadata": {
    "colab": {
      "name": "Assignment_4_Q1(Simple Linear).ipynb",
      "provenance": [],
      "collapsed_sections": []
    },
    "kernelspec": {
      "name": "python3",
      "display_name": "Python 3"
    },
    "language_info": {
      "name": "python"
    }
  },
  "cells": [
    {
      "cell_type": "code",
      "source": [
        "import pandas as pd\n",
        "import numpy as np\n",
        "import seaborn as sns\n",
        "import statsmodels.formula.api as smf"
      ],
      "metadata": {
        "id": "-8BLVIe-B6DS"
      },
      "execution_count": null,
      "outputs": []
    },
    {
      "cell_type": "code",
      "source": [
        "dataset=pd.read_csv('delivery_time.csv')\n",
        "dataset"
      ],
      "metadata": {
        "id": "2L2F7byLEEJZ"
      },
      "execution_count": null,
      "outputs": []
    },
    {
      "cell_type": "markdown",
      "source": [
        "# EDA and Data Visualization"
      ],
      "metadata": {
        "id": "DA-HqrcVErcb"
      }
    },
    {
      "cell_type": "code",
      "source": [
        "dataset.info()"
      ],
      "metadata": {
        "id": "aPcdr_6_FKwn"
      },
      "execution_count": null,
      "outputs": []
    },
    {
      "cell_type": "code",
      "source": [
        "sns.distplot(dataset['Delivery Time'])"
      ],
      "metadata": {
        "id": "lMu1CQYJFMF6"
      },
      "execution_count": null,
      "outputs": []
    },
    {
      "cell_type": "code",
      "source": [
        "sns.distplot(dataset['Sorting Time'])"
      ],
      "metadata": {
        "id": "dCC7kOrdFaBr"
      },
      "execution_count": null,
      "outputs": []
    },
    {
      "cell_type": "markdown",
      "source": [
        "# Feature Engineering"
      ],
      "metadata": {
        "id": "WSg-O2hsFxIw"
      }
    },
    {
      "cell_type": "code",
      "source": [
        "dataset=dataset.rename({'Delivery Time':'delivery_time', 'Sorting Time':'sorting_time'},axis=1)\n",
        "dataset"
      ],
      "metadata": {
        "id": "EF5-5m8AFnSq"
      },
      "execution_count": null,
      "outputs": []
    },
    {
      "cell_type": "markdown",
      "source": [
        "# Correlation Analysis"
      ],
      "metadata": {
        "id": "MTyo9yLFGBfK"
      }
    },
    {
      "cell_type": "code",
      "source": [
        "dataset.corr()"
      ],
      "metadata": {
        "id": "Sp6YB_3GF6xt"
      },
      "execution_count": null,
      "outputs": []
    },
    {
      "cell_type": "code",
      "source": [
        "sns.regplot(x=dataset['sorting_time'],y=dataset['delivery_time'])"
      ],
      "metadata": {
        "id": "AFM5MB56GMhu"
      },
      "execution_count": null,
      "outputs": []
    },
    {
      "cell_type": "code",
      "source": [
        ""
      ],
      "metadata": {
        "id": "9Cq2GTF5GSB7"
      },
      "execution_count": null,
      "outputs": []
    },
    {
      "cell_type": "markdown",
      "source": [
        "# Model Building (Simple linear Regression Model)"
      ],
      "metadata": {
        "id": "nDHKaVrgGr1D"
      }
    },
    {
      "cell_type": "code",
      "source": [
        "model=smf.ols(\"delivery_time~sorting_time\",data=dataset).fit()"
      ],
      "metadata": {
        "id": "CcAK8-8jGxK2"
      },
      "execution_count": null,
      "outputs": []
    },
    {
      "cell_type": "markdown",
      "source": [
        "Model Testing"
      ],
      "metadata": {
        "id": "F34jlUkDG8t8"
      }
    },
    {
      "cell_type": "code",
      "source": [
        "model.params"
      ],
      "metadata": {
        "id": "Vmw1nk9MG_DQ"
      },
      "execution_count": null,
      "outputs": []
    },
    {
      "cell_type": "code",
      "source": [
        "model.tvalues , model.pvalues"
      ],
      "metadata": {
        "id": "b5w4DQq7HDIJ"
      },
      "execution_count": null,
      "outputs": []
    },
    {
      "cell_type": "code",
      "source": [
        "model.rsquared , model.rsquared_adj"
      ],
      "metadata": {
        "id": "hBQ7ow51HIAs"
      },
      "execution_count": null,
      "outputs": []
    },
    {
      "cell_type": "markdown",
      "source": [
        "# Model Building (Logrithm Transformation Model)"
      ],
      "metadata": {
        "id": "TI0oR8tkHRAj"
      }
    },
    {
      "cell_type": "code",
      "source": [
        "import numpy as np\n",
        "from sklearn.linear_model import LinearRegression"
      ],
      "metadata": {
        "id": "OrLP9VU2HLst"
      },
      "execution_count": null,
      "outputs": []
    },
    {
      "cell_type": "code",
      "source": [
        "modellog=smf.ols(\"delivery_time~np.log(sorting_time)\",data=dataset).fit()"
      ],
      "metadata": {
        "id": "r3CS9JApH5p2"
      },
      "execution_count": null,
      "outputs": []
    },
    {
      "cell_type": "markdown",
      "source": [
        "Model Testing"
      ],
      "metadata": {
        "id": "vCP3LB8LLPC2"
      }
    },
    {
      "cell_type": "code",
      "source": [
        "modellog.params"
      ],
      "metadata": {
        "id": "ZZ5sPxLZIAVc"
      },
      "execution_count": null,
      "outputs": []
    },
    {
      "cell_type": "code",
      "source": [
        "modellog.tvalues , modellog.pvalues"
      ],
      "metadata": {
        "id": "fociRalULbTu"
      },
      "execution_count": null,
      "outputs": []
    },
    {
      "cell_type": "code",
      "source": [
        "modellog.rsquared , modellog.rsquared_adj"
      ],
      "metadata": {
        "id": "8Q0zhpVsLfBQ"
      },
      "execution_count": null,
      "outputs": []
    },
    {
      "cell_type": "markdown",
      "source": [
        "# Model Building (Square root Transformation Model)"
      ],
      "metadata": {
        "id": "Nj37R7yVRmu6"
      }
    },
    {
      "cell_type": "code",
      "source": [
        "modelsqrt=smf.ols(\"delivery_time~np.sqrt(sorting_time)\",data=dataset).fit()"
      ],
      "metadata": {
        "id": "N5-uSJpNRtQq"
      },
      "execution_count": null,
      "outputs": []
    },
    {
      "cell_type": "markdown",
      "source": [
        "Model Testing"
      ],
      "metadata": {
        "id": "h7MqoLL2RyTf"
      }
    },
    {
      "cell_type": "code",
      "source": [
        "modelsqrt.params"
      ],
      "metadata": {
        "id": "tcZpaikeR11Y"
      },
      "execution_count": null,
      "outputs": []
    },
    {
      "cell_type": "code",
      "source": [
        "modelsqrt.tvalues , modelsqrt.pvalues"
      ],
      "metadata": {
        "id": "l40Gw1MQR_1q"
      },
      "execution_count": null,
      "outputs": []
    },
    {
      "cell_type": "code",
      "source": [
        "modelsqrt.rsquared , modelsqrt.rsquared_adj"
      ],
      "metadata": {
        "id": "Hw9KwHswSEPt"
      },
      "execution_count": null,
      "outputs": []
    },
    {
      "cell_type": "markdown",
      "source": [
        "# Model Building (Exponential Transformation Model)"
      ],
      "metadata": {
        "id": "VHS36qk9MDfc"
      }
    },
    {
      "cell_type": "code",
      "source": [
        "modelexpo=smf.ols(\"delivery_time~np.exp(sorting_time)\",data=dataset).fit()"
      ],
      "metadata": {
        "id": "kwnNYoItLpUT"
      },
      "execution_count": null,
      "outputs": []
    },
    {
      "cell_type": "markdown",
      "source": [
        "Model Testing"
      ],
      "metadata": {
        "id": "uP2I5AFeMQNM"
      }
    },
    {
      "cell_type": "code",
      "source": [
        "modelexpo.params"
      ],
      "metadata": {
        "id": "wDqm-bWuMKLG"
      },
      "execution_count": null,
      "outputs": []
    },
    {
      "cell_type": "code",
      "source": [
        "modelexpo.tvalues , modelexpo.pvalues"
      ],
      "metadata": {
        "id": "CmypwojxMUAL"
      },
      "execution_count": null,
      "outputs": []
    },
    {
      "cell_type": "code",
      "source": [
        "modelexpo.rsquared , modelexpo.rsquared_adj"
      ],
      "metadata": {
        "id": "hWB1JjnlMYNu"
      },
      "execution_count": null,
      "outputs": []
    },
    {
      "cell_type": "markdown",
      "source": [
        "# Model Building (Sin Transformation Model)"
      ],
      "metadata": {
        "id": "DLJdnGddMhDq"
      }
    },
    {
      "cell_type": "code",
      "source": [
        "modelsin=smf.ols(\"delivery_time~np.sin(sorting_time)\",data=dataset).fit()"
      ],
      "metadata": {
        "id": "qvG4J1vaMcqx"
      },
      "execution_count": null,
      "outputs": []
    },
    {
      "cell_type": "markdown",
      "source": [
        "Model Testing"
      ],
      "metadata": {
        "id": "1cPQb9aXM2pA"
      }
    },
    {
      "cell_type": "code",
      "source": [
        "modelsin.params"
      ],
      "metadata": {
        "id": "VsstR_1zMuKN"
      },
      "execution_count": null,
      "outputs": []
    },
    {
      "cell_type": "code",
      "source": [
        "modelsin.tvalues , modelsin.pvalues"
      ],
      "metadata": {
        "id": "bVooZcDdNDkq"
      },
      "execution_count": null,
      "outputs": []
    },
    {
      "cell_type": "code",
      "source": [
        "modelsin.rsquared , modelsin.rsquared_adj"
      ],
      "metadata": {
        "id": "mmkjS6A7NJlZ"
      },
      "execution_count": null,
      "outputs": []
    },
    {
      "cell_type": "markdown",
      "source": [
        "# Model Building (cos Transformation Model)"
      ],
      "metadata": {
        "id": "VOEP1DmWNUfd"
      }
    },
    {
      "cell_type": "code",
      "source": [
        "modelcos=smf.ols(\"delivery_time~np.cos(sorting_time)\",data=dataset).fit()"
      ],
      "metadata": {
        "id": "_QBvYbcLNPBD"
      },
      "execution_count": null,
      "outputs": []
    },
    {
      "cell_type": "markdown",
      "source": [
        "Model Testing"
      ],
      "metadata": {
        "id": "HzpWWwXgNjRu"
      }
    },
    {
      "cell_type": "code",
      "source": [
        "modelcos.params"
      ],
      "metadata": {
        "id": "Ekk1mk2gNejT"
      },
      "execution_count": null,
      "outputs": []
    },
    {
      "cell_type": "code",
      "source": [
        "modelcos.tvalues , modelcos.pvalues"
      ],
      "metadata": {
        "id": "jK7RoAgzNneg"
      },
      "execution_count": null,
      "outputs": []
    },
    {
      "cell_type": "code",
      "source": [
        "modelcos.rsquared , modelcos.rsquared_adj"
      ],
      "metadata": {
        "id": "G9XtCCvaNrW1"
      },
      "execution_count": null,
      "outputs": []
    },
    {
      "cell_type": "markdown",
      "source": [
        "# Model Building (tan Transformation Model)"
      ],
      "metadata": {
        "id": "U1gxdmcCN3-P"
      }
    },
    {
      "cell_type": "code",
      "source": [
        "modeltan=smf.ols(\"delivery_time~np.tan(sorting_time)\",data=dataset).fit()"
      ],
      "metadata": {
        "id": "J15vEL3_N7mo"
      },
      "execution_count": null,
      "outputs": []
    },
    {
      "cell_type": "markdown",
      "source": [
        "Model Testing"
      ],
      "metadata": {
        "id": "Cg0wvW7-OFjq"
      }
    },
    {
      "cell_type": "code",
      "source": [
        "modeltan.params"
      ],
      "metadata": {
        "id": "RC1IkCKnODry"
      },
      "execution_count": null,
      "outputs": []
    },
    {
      "cell_type": "code",
      "source": [
        "modeltan.tvalues , modeltan.pvalues"
      ],
      "metadata": {
        "id": "RMD9SbuONuaq"
      },
      "execution_count": null,
      "outputs": []
    },
    {
      "cell_type": "code",
      "source": [
        "modeltan.rsquared , modeltan.rsquared_adj"
      ],
      "metadata": {
        "id": "RN1Cm0FUOdcJ"
      },
      "execution_count": null,
      "outputs": []
    },
    {
      "cell_type": "markdown",
      "source": [
        "# Model Building (log1p Transformation Model)"
      ],
      "metadata": {
        "id": "aBTP0ogxOn2V"
      }
    },
    {
      "cell_type": "code",
      "source": [
        "modellog1p=smf.ols(\"delivery_time~np.log1p(sorting_time)\",data=dataset).fit()"
      ],
      "metadata": {
        "id": "m02TxWauOhZv"
      },
      "execution_count": null,
      "outputs": []
    },
    {
      "cell_type": "markdown",
      "source": [
        "Model Testing"
      ],
      "metadata": {
        "id": "YuN63GBhO1Fr"
      }
    },
    {
      "cell_type": "code",
      "source": [
        "modellog1p.params"
      ],
      "metadata": {
        "id": "AAx6hDyEOvt1"
      },
      "execution_count": null,
      "outputs": []
    },
    {
      "cell_type": "code",
      "source": [
        "modellog1p.tvalues , modellog1p.pvalues"
      ],
      "metadata": {
        "id": "DpF0Vi_IO6t9"
      },
      "execution_count": null,
      "outputs": []
    },
    {
      "cell_type": "code",
      "source": [
        "modellog1p.rsquared , modellog1p.rsquared_adj"
      ],
      "metadata": {
        "id": "X1i1gJA7O-14"
      },
      "execution_count": null,
      "outputs": []
    },
    {
      "cell_type": "markdown",
      "source": [
        "# Model Building (Quadratic Transformation Model)"
      ],
      "metadata": {
        "id": "uzBivhRQPJYW"
      }
    },
    {
      "cell_type": "code",
      "source": [
        "dataset['sq_sort_time']=dataset.sorting_time*dataset.sorting_time\n",
        "\n",
        "modelquad=smf.ols(\"dataset.delivery_time~dataset.sq_sort_time+dataset.sorting_time\",data=dataset).fit()"
      ],
      "metadata": {
        "id": "dVXN99fdPEzB"
      },
      "execution_count": null,
      "outputs": []
    },
    {
      "cell_type": "markdown",
      "source": [
        "Model Testing"
      ],
      "metadata": {
        "id": "6Ztmn-qFPYPU"
      }
    },
    {
      "cell_type": "code",
      "source": [
        "modelquad.params"
      ],
      "metadata": {
        "id": "9MCitiC2PTTo"
      },
      "execution_count": null,
      "outputs": []
    },
    {
      "cell_type": "code",
      "source": [
        "modelquad.tvalues , modelquad.pvalues"
      ],
      "metadata": {
        "id": "19tJKYM4Pdby"
      },
      "execution_count": null,
      "outputs": []
    },
    {
      "cell_type": "code",
      "source": [
        "modelquad.rsquared , modelquad.rsquared_adj"
      ],
      "metadata": {
        "id": "XcR3JqiYPhxW"
      },
      "execution_count": null,
      "outputs": []
    },
    {
      "cell_type": "markdown",
      "source": [
        "# Model Building (Polynomial Transformation Model)"
      ],
      "metadata": {
        "id": "-ZdIINpJPtbB"
      }
    },
    {
      "cell_type": "code",
      "source": [
        "modelpoly=smf.ols(\"delivery_time~sorting_time+I(sorting_time^2)\",data=dataset).fit()"
      ],
      "metadata": {
        "id": "KfRpHaHfPou0"
      },
      "execution_count": null,
      "outputs": []
    },
    {
      "cell_type": "markdown",
      "source": [
        "Model Testing"
      ],
      "metadata": {
        "id": "A4PHnKJfP3z4"
      }
    },
    {
      "cell_type": "code",
      "source": [
        "modelpoly.params"
      ],
      "metadata": {
        "id": "rL2ARrEsP2UI"
      },
      "execution_count": null,
      "outputs": []
    },
    {
      "cell_type": "code",
      "source": [
        "modelpoly.tvalues , modelpoly.pvalues"
      ],
      "metadata": {
        "id": "VrHZOnCJP-bH"
      },
      "execution_count": null,
      "outputs": []
    },
    {
      "cell_type": "code",
      "source": [
        "modelpoly.rsquared , modelpoly.rsquared_adj"
      ],
      "metadata": {
        "id": "ZqENUILXQBUA"
      },
      "execution_count": null,
      "outputs": []
    },
    {
      "cell_type": "markdown",
      "source": [
        "# Model Building (Cubic Transformation Model)"
      ],
      "metadata": {
        "id": "mWYuUkZWQJY2"
      }
    },
    {
      "cell_type": "code",
      "source": [
        "modelcubic=smf.ols(\"delivery_time~sorting_time+I(sorting_time^2)+I(sorting_time^3)\",data=dataset).fit()"
      ],
      "metadata": {
        "id": "tl9n1sRSQE8O"
      },
      "execution_count": null,
      "outputs": []
    },
    {
      "cell_type": "markdown",
      "source": [
        "Model Testing"
      ],
      "metadata": {
        "id": "GWeDIzelQSoN"
      }
    },
    {
      "cell_type": "code",
      "source": [
        "modelcubic.params"
      ],
      "metadata": {
        "id": "ojjNBf5_QPDC"
      },
      "execution_count": null,
      "outputs": []
    },
    {
      "cell_type": "code",
      "source": [
        "modelcubic.tvalues , modelcubic.pvalues"
      ],
      "metadata": {
        "id": "7YO0d1okQWjD"
      },
      "execution_count": null,
      "outputs": []
    },
    {
      "cell_type": "code",
      "source": [
        "modelcubic.rsquared , modelcubic.rsquared_adj"
      ],
      "metadata": {
        "id": "BitsBTXPQaQI"
      },
      "execution_count": null,
      "outputs": []
    },
    {
      "cell_type": "markdown",
      "source": [
        "# Model Building (Square root+Cubic Transformation Model)"
      ],
      "metadata": {
        "id": "6rstA0EjQfqT"
      }
    },
    {
      "cell_type": "code",
      "source": [
        "modelsqrtcubic=smf.ols(\"delivery_time~np.sqrt(sorting_time)+sorting_time+I(sorting_time^2)+I(sorting_time^3)\",data=dataset).fit()"
      ],
      "metadata": {
        "id": "6kW_jmHpQeME"
      },
      "execution_count": null,
      "outputs": []
    },
    {
      "cell_type": "markdown",
      "source": [
        "Model Testing"
      ],
      "metadata": {
        "id": "gCPDD5fdQtXf"
      }
    },
    {
      "cell_type": "code",
      "source": [
        "modelsqrtcubic.params"
      ],
      "metadata": {
        "id": "D2IQbHK2QsJ1"
      },
      "execution_count": null,
      "outputs": []
    },
    {
      "cell_type": "code",
      "source": [
        "modelsqrtcubic.tvalues , modelcubic.pvalues"
      ],
      "metadata": {
        "id": "Sgg06-RdQ450"
      },
      "execution_count": null,
      "outputs": []
    },
    {
      "cell_type": "code",
      "source": [
        "modelsqrtcubic.rsquared , modelcubic.rsquared_adj"
      ],
      "metadata": {
        "id": "aWFSucFoQ8Td"
      },
      "execution_count": null,
      "outputs": []
    },
    {
      "cell_type": "markdown",
      "source": [
        "All models results"
      ],
      "metadata": {
        "id": "wlnxxBJdRDL1"
      }
    },
    {
      "cell_type": "code",
      "source": [
        "model.rsquared , model.rsquared_adj"
      ],
      "metadata": {
        "id": "cdzwjFthQ_nj"
      },
      "execution_count": null,
      "outputs": []
    },
    {
      "cell_type": "code",
      "source": [
        "modellog.rsquared , modellog.rsquared_adj"
      ],
      "metadata": {
        "id": "iGw6NNwPRGpF"
      },
      "execution_count": null,
      "outputs": []
    },
    {
      "cell_type": "code",
      "source": [
        "modelsqrt.rsquared , modelsqrt.rsquared_adj"
      ],
      "metadata": {
        "id": "frv0UUKvRMhE"
      },
      "execution_count": null,
      "outputs": []
    },
    {
      "cell_type": "code",
      "source": [
        "modelexpo.rsquared , modelexpo.rsquared_adj"
      ],
      "metadata": {
        "id": "yfixFia6RT1b"
      },
      "execution_count": null,
      "outputs": []
    },
    {
      "cell_type": "code",
      "source": [
        "modelsin.rsquared , modelsin.rsquared_adj"
      ],
      "metadata": {
        "id": "qOs7waISSVP8"
      },
      "execution_count": null,
      "outputs": []
    },
    {
      "cell_type": "code",
      "source": [
        "modelcos.rsquared , modelcos.rsquared_adj"
      ],
      "metadata": {
        "id": "wFZeTuxYSYTK"
      },
      "execution_count": null,
      "outputs": []
    },
    {
      "cell_type": "code",
      "source": [
        "modeltan.rsquared , modeltan.rsquared_adj"
      ],
      "metadata": {
        "id": "r1tgF5QWScw5"
      },
      "execution_count": null,
      "outputs": []
    },
    {
      "cell_type": "code",
      "source": [
        "modellog1p.rsquared , modellog1p.rsquared_adj"
      ],
      "metadata": {
        "id": "F5TeWEYASf1m"
      },
      "execution_count": null,
      "outputs": []
    },
    {
      "cell_type": "code",
      "source": [
        "modelquad.rsquared , modelquad.rsquared_adj"
      ],
      "metadata": {
        "id": "8GI4ueC3SjDF"
      },
      "execution_count": null,
      "outputs": []
    },
    {
      "cell_type": "code",
      "source": [
        "modelpoly.rsquared , modelpoly.rsquared_adj"
      ],
      "metadata": {
        "id": "fd8GcB-tSmpW"
      },
      "execution_count": null,
      "outputs": []
    },
    {
      "cell_type": "code",
      "source": [
        "modelcubic.rsquared , modelcubic.rsquared_adj"
      ],
      "metadata": {
        "id": "Y6aRE91OSpLa"
      },
      "execution_count": null,
      "outputs": []
    },
    {
      "cell_type": "code",
      "source": [
        "modelsqrtcubic.rsquared , modelcubic.rsquared_adj"
      ],
      "metadata": {
        "id": "VkaXt0ZiSsLn"
      },
      "execution_count": null,
      "outputs": []
    },
    {
      "cell_type": "code",
      "source": [
        "modelsqrtcubic.summary()"
      ],
      "metadata": {
        "id": "-hgmuFJQSvWY"
      },
      "execution_count": null,
      "outputs": []
    },
    {
      "cell_type": "markdown",
      "source": [
        "# Model Predictions"
      ],
      "metadata": {
        "id": "UXwMosfHT5oL"
      }
    },
    {
      "cell_type": "code",
      "source": [
        "delivery_time = (6.582734) + (1.649020)*(5)\n",
        "delivery_time"
      ],
      "metadata": {
        "id": "XI4c6yE3TzfL"
      },
      "execution_count": null,
      "outputs": []
    },
    {
      "cell_type": "code",
      "source": [
        "new_data=pd.Series([5,8])\n",
        "new_data"
      ],
      "metadata": {
        "id": "YJ9wf46VT_VE"
      },
      "execution_count": null,
      "outputs": []
    },
    {
      "cell_type": "code",
      "source": [
        "data_pred=pd.DataFrame(new_data,columns=['sorting_time'])\n",
        "data_pred"
      ],
      "metadata": {
        "id": "0ls5BUN2UCqq"
      },
      "execution_count": null,
      "outputs": []
    },
    {
      "cell_type": "code",
      "source": [
        "model.predict(data_pred)"
      ],
      "metadata": {
        "id": "rq1veOgHUF1x"
      },
      "execution_count": null,
      "outputs": []
    },
    {
      "cell_type": "code",
      "source": [
        ""
      ],
      "metadata": {
        "id": "HGcYsrbuUIvq"
      },
      "execution_count": null,
      "outputs": []
    }
  ]
}